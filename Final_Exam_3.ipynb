{
  "cells": [
    {
      "cell_type": "markdown",
      "metadata": {
        "id": "254TgXr6KGry"
      },
      "source": [
        "# Amazon Review Analysis\n",
        "In the following notebook, which is a part of the 4 part assignment, we will be implementing a model which does a sentiment analysis on a dataset using a 3 Hidden Layer Neural Network with Bag of Words and Random Search.\n",
        "\n",
        "For the following we will be doing the following things:\n",
        "1. Data Preprocessing\n",
        "2. Making Data Machine Undersdtandable\n",
        "3. Neural network with Random Search\n",
        "4. Evaluation and Plotting Graph"
      ]
    },
    {
      "cell_type": "markdown",
      "metadata": {
        "id": "Qf-VB9uQNoSr"
      },
      "source": [
        "## Data Pre-processing\n"
      ]
    },
    {
      "cell_type": "code",
      "execution_count": null,
      "metadata": {
        "colab": {
          "base_uri": "https://localhost:8080/"
        },
        "id": "WiaqnEehKCYQ",
        "outputId": "84a87f4a-ea4b-48c3-c6e5-edaa11ee3363"
      },
      "outputs": [
        {
          "output_type": "stream",
          "name": "stderr",
          "text": [
            "[nltk_data] Downloading package stopwords to /root/nltk_data...\n",
            "[nltk_data]   Unzipping corpora/stopwords.zip.\n",
            "[nltk_data] Downloading package wordnet to /root/nltk_data...\n",
            "[nltk_data] Downloading package punkt to /root/nltk_data...\n",
            "[nltk_data]   Unzipping tokenizers/punkt.zip.\n"
          ]
        }
      ],
      "source": [
        "# Data Preprocessing\n",
        "import pandas as pd\n",
        "import numpy as np\n",
        "import string\n",
        "import nltk\n",
        "from nltk.corpus import stopwords\n",
        "from nltk.stem import WordNetLemmatizer\n",
        "from sklearn.model_selection import train_test_split\n",
        "\n",
        "\n",
        "# Download required NLTK data files\n",
        "nltk.download('stopwords')\n",
        "nltk.download('wordnet')\n",
        "nltk.download('punkt')\n",
        "\n",
        "# Load the data\n",
        "train_df = pd.read_csv('/content/drive/MyDrive/Machine Learning for Finances/train.csv')\n",
        "test_df = pd.read_csv('/content/drive/MyDrive/Machine Learning for Finances/test.csv')\n",
        "\n",
        "# Function to clean text\n",
        "def clean_text(text):\n",
        "    # Remove punctuation\n",
        "    text = text.translate(str.maketrans('', '', string.punctuation))\n",
        "    # Tokenize\n",
        "    tokens = nltk.word_tokenize(text.lower())\n",
        "    # Remove stop words and lemmatize\n",
        "    lemmatizer = WordNetLemmatizer()\n",
        "    tokens = [lemmatizer.lemmatize(word) for word in tokens if word not in stopwords.words('english')]\n",
        "    return ' '.join(tokens)\n",
        "\n",
        "# Apply the clean_text function to the reviewText column\n",
        "train_df['cleanedText'] = train_df['reviewText'].apply(clean_text)\n",
        "test_df['cleanedText'] = test_df['reviewText'].apply(clean_text)\n",
        "\n",
        "# Separate features and target\n",
        "X_train = train_df['cleanedText']\n",
        "y_train = train_df['Positive']\n",
        "X_test = test_df['cleanedText']\n",
        "y_test = test_df['Positive']"
      ]
    },
    {
      "cell_type": "markdown",
      "metadata": {
        "id": "P7_b5VA8N6eO"
      },
      "source": [
        "## Making Data Machine Understandable"
      ]
    },
    {
      "cell_type": "code",
      "execution_count": null,
      "metadata": {
        "id": "b5tbkSU-Ll3O"
      },
      "outputs": [],
      "source": [
        "from sklearn.feature_extraction.text import TfidfVectorizer\n",
        "\n",
        "# Create TF-IDF vectorizer\n",
        "tfidf_vectorizer = TfidfVectorizer(max_features=5000)\n",
        "X_train_tfidf = tfidf_vectorizer.fit_transform(X_train)\n",
        "X_test_tfidf = tfidf_vectorizer.transform(X_test)\n"
      ]
    },
    {
      "cell_type": "markdown",
      "metadata": {
        "id": "AL2yLb2IWjU4"
      },
      "source": [
        "## Neural Network with Random Search\n"
      ]
    },
    {
      "cell_type": "code",
      "source": [
        "import random\n",
        "import torch\n",
        "import torch.nn as nn\n",
        "import torch.optim as optim\n",
        "from sklearn.metrics import accuracy_score"
      ],
      "metadata": {
        "id": "2bKCS2lOZLqD"
      },
      "execution_count": null,
      "outputs": []
    },
    {
      "cell_type": "code",
      "source": [
        "# Convert data to PyTorch tensors\n",
        "X_train_tfidf = torch.tensor(X_train_tfidf.toarray(), dtype=torch.float32)\n",
        "X_test_tfidf = torch.tensor(X_test_tfidf.toarray(), dtype=torch.float32)\n",
        "y_train = torch.tensor(y_train.values, dtype=torch.float32).view(-1, 1)\n",
        "y_test = torch.tensor(y_test.values, dtype=torch.float32).view(-1, 1)\n",
        "\n",
        "# Define the neural network\n",
        "class ReviewClassifier(nn.Module):\n",
        "    def __init__(self, input_size, hidden_size1, hidden_size2, hidden_size3):\n",
        "        super(ReviewClassifier, self).__init__()\n",
        "        self.fc1 = nn.Linear(input_size, hidden_size1)\n",
        "        self.fc2 = nn.Linear(hidden_size1, hidden_size2)\n",
        "        self.fc3 = nn.Linear(hidden_size2, hidden_size3)\n",
        "        self.fc4 = nn.Linear(hidden_size3, 1)\n",
        "        self.relu = nn.ReLU()\n",
        "        self.sigmoid = nn.Sigmoid()\n",
        "\n",
        "    def forward(self, x):\n",
        "        x = self.relu(self.fc1(x))\n",
        "        x = self.relu(self.fc2(x))\n",
        "        x = self.relu(self.fc3(x))\n",
        "        x = self.sigmoid(self.fc4(x))\n",
        "        return x\n",
        "\n",
        "# Hyperparameter search space\n",
        "param_grid = {\n",
        "    'hidden_size1': [128, 256, 512],\n",
        "    'hidden_size2': [64, 128, 256],\n",
        "    'hidden_size3': [32, 64, 128],\n",
        "    'learning_rate': [0.01, 0.001, 0.0001],\n",
        "    'batch_size': [32, 64, 128]\n",
        "}"
      ],
      "metadata": {
        "id": "4R-Y9PCjaOhP"
      },
      "execution_count": null,
      "outputs": []
    },
    {
      "cell_type": "code",
      "source": [
        "# Random search\n",
        "def random_search(param_grid, num_iters):\n",
        "    best_acc = 0\n",
        "    best_params = None\n",
        "\n",
        "    for _ in range(num_iters):\n",
        "        params = {key: random.choice(values) for key, values in param_grid.items()}\n",
        "        input_size = 5000  # Number of features\n",
        "        model = ReviewClassifier(input_size, params['hidden_size1'], params['hidden_size2'], params['hidden_size3'])\n",
        "        criterion = nn.BCELoss()\n",
        "        optimizer = optim.Adam(model.parameters(), lr=params['learning_rate'])\n",
        "\n",
        "        train_dataset = torch.utils.data.TensorDataset(X_train_tfidf, y_train)\n",
        "        train_loader = torch.utils.data.DataLoader(train_dataset, batch_size=params['batch_size'], shuffle=True)\n",
        "\n",
        "        num_epochs = 10\n",
        "\n",
        "        for epoch in range(num_epochs):\n",
        "            model.train()\n",
        "            running_loss = 0.0\n",
        "            for i, (inputs, labels) in enumerate(train_loader):\n",
        "                optimizer.zero_grad()\n",
        "                outputs = model(inputs)\n",
        "                loss = criterion(outputs, labels)\n",
        "                loss.backward()\n",
        "                optimizer.step()\n",
        "                running_loss += loss.item()\n",
        "\n",
        "        model.eval()\n",
        "        with torch.no_grad():\n",
        "            predictions = model(X_test_tfidf)\n",
        "            predictions = (predictions > 0.5).float()\n",
        "            accuracy = accuracy_score(y_test, predictions)\n",
        "\n",
        "        if accuracy > best_acc:\n",
        "            best_acc = accuracy\n",
        "            best_params = params\n",
        "            best_model = model\n",
        "\n",
        "        print(f\"Params: {params}, Accuracy: {accuracy:.4f}\")\n",
        "\n",
        "    print(f\"Best Params: {best_params}, Best Accuracy: {best_acc:.4f}\")\n",
        "    return best_model, best_params\n",
        "\n",
        "# Perform random search\n",
        "best_model, best_params = random_search(param_grid, num_iters=20)\n",
        "\n",
        "# Evaluate the best model\n",
        "best_model.eval()\n",
        "with torch.no_grad():\n",
        "    predictions = best_model(X_test_tfidf)\n",
        "    predictions = (predictions > 0.5).float()\n",
        "    accuracy = accuracy_score(y_test, predictions)\n",
        "    print(f\"Best Model Test Accuracy: {accuracy:.4f}\")"
      ],
      "metadata": {
        "colab": {
          "base_uri": "https://localhost:8080/"
        },
        "id": "MSRhYG9NaSgA",
        "outputId": "0be70386-47c8-43c7-b690-dbe22654a750"
      },
      "execution_count": null,
      "outputs": [
        {
          "output_type": "stream",
          "name": "stdout",
          "text": [
            "Params: {'hidden_size1': 512, 'hidden_size2': 128, 'hidden_size3': 32, 'learning_rate': 0.001, 'batch_size': 32}, Accuracy: 0.8758\n",
            "Params: {'hidden_size1': 128, 'hidden_size2': 128, 'hidden_size3': 64, 'learning_rate': 0.01, 'batch_size': 64}, Accuracy: 0.8705\n",
            "Params: {'hidden_size1': 256, 'hidden_size2': 256, 'hidden_size3': 64, 'learning_rate': 0.01, 'batch_size': 64}, Accuracy: 0.8752\n",
            "Params: {'hidden_size1': 128, 'hidden_size2': 64, 'hidden_size3': 64, 'learning_rate': 0.001, 'batch_size': 128}, Accuracy: 0.8702\n",
            "Params: {'hidden_size1': 128, 'hidden_size2': 256, 'hidden_size3': 128, 'learning_rate': 0.01, 'batch_size': 128}, Accuracy: 0.8778\n",
            "Params: {'hidden_size1': 128, 'hidden_size2': 128, 'hidden_size3': 64, 'learning_rate': 0.001, 'batch_size': 64}, Accuracy: 0.8732\n",
            "Params: {'hidden_size1': 256, 'hidden_size2': 128, 'hidden_size3': 128, 'learning_rate': 0.001, 'batch_size': 32}, Accuracy: 0.8802\n",
            "Params: {'hidden_size1': 512, 'hidden_size2': 128, 'hidden_size3': 64, 'learning_rate': 0.001, 'batch_size': 32}, Accuracy: 0.8738\n",
            "Params: {'hidden_size1': 512, 'hidden_size2': 64, 'hidden_size3': 64, 'learning_rate': 0.0001, 'batch_size': 128}, Accuracy: 0.8862\n",
            "Params: {'hidden_size1': 256, 'hidden_size2': 256, 'hidden_size3': 32, 'learning_rate': 0.0001, 'batch_size': 128}, Accuracy: 0.8828\n",
            "Params: {'hidden_size1': 128, 'hidden_size2': 64, 'hidden_size3': 32, 'learning_rate': 0.001, 'batch_size': 128}, Accuracy: 0.8730\n",
            "Params: {'hidden_size1': 512, 'hidden_size2': 128, 'hidden_size3': 64, 'learning_rate': 0.0001, 'batch_size': 64}, Accuracy: 0.8765\n",
            "Params: {'hidden_size1': 256, 'hidden_size2': 256, 'hidden_size3': 64, 'learning_rate': 0.0001, 'batch_size': 128}, Accuracy: 0.8830\n",
            "Params: {'hidden_size1': 256, 'hidden_size2': 256, 'hidden_size3': 32, 'learning_rate': 0.0001, 'batch_size': 32}, Accuracy: 0.8745\n",
            "Params: {'hidden_size1': 512, 'hidden_size2': 256, 'hidden_size3': 64, 'learning_rate': 0.0001, 'batch_size': 128}, Accuracy: 0.8828\n",
            "Params: {'hidden_size1': 256, 'hidden_size2': 64, 'hidden_size3': 64, 'learning_rate': 0.01, 'batch_size': 32}, Accuracy: 0.8812\n",
            "Params: {'hidden_size1': 128, 'hidden_size2': 256, 'hidden_size3': 128, 'learning_rate': 0.0001, 'batch_size': 64}, Accuracy: 0.8778\n",
            "Params: {'hidden_size1': 256, 'hidden_size2': 64, 'hidden_size3': 64, 'learning_rate': 0.01, 'batch_size': 128}, Accuracy: 0.8778\n",
            "Params: {'hidden_size1': 128, 'hidden_size2': 256, 'hidden_size3': 32, 'learning_rate': 0.01, 'batch_size': 32}, Accuracy: 0.8725\n",
            "Params: {'hidden_size1': 512, 'hidden_size2': 128, 'hidden_size3': 64, 'learning_rate': 0.0001, 'batch_size': 128}, Accuracy: 0.8785\n",
            "Best Params: {'hidden_size1': 512, 'hidden_size2': 64, 'hidden_size3': 64, 'learning_rate': 0.0001, 'batch_size': 128}, Best Accuracy: 0.8862\n",
            "Best Model Test Accuracy: 0.8862\n"
          ]
        }
      ]
    },
    {
      "cell_type": "markdown",
      "metadata": {
        "id": "x2XsLp3jXhza"
      },
      "source": [
        "## Evaluation and Plotting Graph\n"
      ]
    },
    {
      "cell_type": "code",
      "execution_count": null,
      "metadata": {
        "colab": {
          "base_uri": "https://localhost:8080/"
        },
        "id": "GstZrfI1W8RS",
        "outputId": "78359b21-0993-40aa-a718-d319c2048e4a"
      },
      "outputs": [
        {
          "output_type": "stream",
          "name": "stdout",
          "text": [
            "Best Model Test F1 Score: 0.9256\n",
            "Classification Report:\n",
            "              precision    recall  f1-score   support\n",
            "\n",
            "         0.0       0.77      0.75      0.76       958\n",
            "         1.0       0.92      0.93      0.93      3042\n",
            "\n",
            "    accuracy                           0.89      4000\n",
            "   macro avg       0.85      0.84      0.84      4000\n",
            "weighted avg       0.89      0.89      0.89      4000\n",
            "\n"
          ]
        }
      ],
      "source": [
        "from sklearn.metrics import f1_score, classification_report\n",
        "\n",
        "# Predict and evaluate the model\n",
        "f1 = f1_score(y_test, predictions)\n",
        "print(f\"Best Model Test F1 Score: {f1:.4f}\")\n",
        "report = classification_report(y_test, predictions)\n",
        "print(f\"Classification Report:\\n{report}\")"
      ]
    },
    {
      "cell_type": "code",
      "execution_count": null,
      "metadata": {
        "colab": {
          "base_uri": "https://localhost:8080/",
          "height": 472
        },
        "id": "EgZHa5JoXbKa",
        "outputId": "03dc2f67-568c-49df-b7e7-4d4d49041161"
      },
      "outputs": [
        {
          "output_type": "display_data",
          "data": {
            "text/plain": [
              "<Figure size 640x480 with 1 Axes>"
            ],
            "image/png": "[encoded data removed]"
          },
          "metadata": {}
        }
      ],
      "source": [
        "import matplotlib.pyplot as plt\n",
        "\n",
        "# Plot the histogram of probabilities for the positive class\n",
        "probabilities = best_model(X_test_tfidf)\n",
        "plt.hist(probabilities.detach().numpy(), bins=20, edgecolor='k')\n",
        "plt.title('Probability Distribution of Positive Class')\n",
        "plt.xlabel('Probability')\n",
        "plt.ylabel('Frequency')\n",
        "plt.show()"
      ]
    },
    {
      "cell_type": "code",
      "execution_count": null,
      "metadata": {
        "colab": {
          "base_uri": "https://localhost:8080/"
        },
        "id": "asDJcpuyXdbv",
        "outputId": "96bf337c-4b3a-4b15-8529-b96bab8a8125"
      },
      "outputs": [
        {
          "output_type": "stream",
          "name": "stdout",
          "text": [
            "Best Hyperparameters: {'hidden_size1': 512, 'hidden_size2': 64, 'hidden_size3': 64, 'learning_rate': 0.0001, 'batch_size': 128}\n"
          ]
        }
      ],
      "source": [
        "# Print optimized hyperparameters\n",
        "print(f\"Best Hyperparameters: {best_params}\")"
      ]
    },
    {
      "cell_type": "code",
      "execution_count": null,
      "metadata": {
        "id": "eKqjC-flXfn9"
      },
      "outputs": [],
      "source": []
    }
  ],
  "metadata": {
    "accelerator": "GPU",
    "colab": {
      "gpuType": "T4",
      "provenance": []
    },
    "kernelspec": {
      "display_name": "Python 3",
      "name": "python3"
    },
    "language_info": {
      "name": "python"
    }
  },
  "nbformat": 4,
  "nbformat_minor": 0
}