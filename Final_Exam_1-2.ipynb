{
  "nbformat": 4,
  "nbformat_minor": 0,
  "metadata": {
    "colab": {
      "provenance": [],
      "gpuType": "T4"
    },
    "kernelspec": {
      "name": "python3",
      "display_name": "Python 3"
    },
    "language_info": {
      "name": "python"
    },
    "accelerator": "GPU"
  },
  "cells": [
    {
      "cell_type": "markdown",
      "source": [
        "# Amazon Review Analysis\n",
        "In the following notebook, which is a part of the 4 part assignment, we will be implementing a model which does a sentiment analysis on a dataset using XGBoost + Bag of Words.\n",
        "\n",
        "For the following we will be doing the following things:\n",
        "1. Data Preprocessing\n",
        "2. Making Data Machine Undersdtandable\n",
        "3. XGBoost with Bag of Words\n",
        "4. Evaluation and Plotting Graph"
      ],
      "metadata": {
        "id": "254TgXr6KGry"
      }
    },
    {
      "cell_type": "markdown",
      "source": [
        "## Data Pre-processing\n"
      ],
      "metadata": {
        "id": "Qf-VB9uQNoSr"
      }
    },
    {
      "cell_type": "code",
      "execution_count": null,
      "metadata": {
        "colab": {
          "base_uri": "https://localhost:8080/"
        },
        "id": "WiaqnEehKCYQ",
        "outputId": "a415c453-322f-40e1-d973-a3bc56249a2b"
      },
      "outputs": [
        {
          "output_type": "stream",
          "name": "stderr",
          "text": [
            "[nltk_data] Downloading package stopwords to /root/nltk_data...\n",
            "[nltk_data]   Unzipping corpora/stopwords.zip.\n",
            "[nltk_data] Downloading package wordnet to /root/nltk_data...\n",
            "[nltk_data] Downloading package punkt to /root/nltk_data...\n",
            "[nltk_data]   Unzipping tokenizers/punkt.zip.\n"
          ]
        }
      ],
      "source": [
        "# Data Preprocessing\n",
        "import pandas as pd\n",
        "import numpy as np\n",
        "import string\n",
        "import nltk\n",
        "from nltk.corpus import stopwords\n",
        "from nltk.stem import WordNetLemmatizer\n",
        "from sklearn.model_selection import train_test_split\n",
        "\n",
        "# Download required NLTK data files\n",
        "nltk.download('stopwords')\n",
        "nltk.download('wordnet')\n",
        "nltk.download('punkt')\n",
        "\n",
        "# Load the data\n",
        "train_df = pd.read_csv('/content/drive/MyDrive/Machine Learning for Finances/train.csv')\n",
        "test_df = pd.read_csv('/content/drive/MyDrive/Machine Learning for Finances/test.csv')\n",
        "\n",
        "# Function to clean text\n",
        "def clean_text(text):\n",
        "    # Remove punctuation\n",
        "    text = text.translate(str.maketrans('', '', string.punctuation))\n",
        "    # Tokenize\n",
        "    tokens = nltk.word_tokenize(text.lower())\n",
        "    # Remove stop words and lemmatize\n",
        "    lemmatizer = WordNetLemmatizer()\n",
        "    tokens = [lemmatizer.lemmatize(word) for word in tokens if word not in stopwords.words('english')]\n",
        "    return ' '.join(tokens)\n",
        "\n",
        "# Apply the clean_text function to the reviewText column\n",
        "train_df['cleanedText'] = train_df['reviewText'].apply(clean_text)\n",
        "test_df['cleanedText'] = test_df['reviewText'].apply(clean_text)\n",
        "\n",
        "# Separate features and target\n",
        "X_train = train_df['cleanedText']\n",
        "y_train = train_df['Positive']\n",
        "X_test = test_df['cleanedText']\n",
        "y_test = test_df['Positive']"
      ]
    },
    {
      "cell_type": "markdown",
      "source": [
        "## Making Data Machine Understandable"
      ],
      "metadata": {
        "id": "P7_b5VA8N6eO"
      }
    },
    {
      "cell_type": "code",
      "source": [
        "from sklearn.feature_extraction.text import TfidfVectorizer\n",
        "\n",
        "# Create TF-IDF vectorizer\n",
        "tfidf_vectorizer = TfidfVectorizer(max_features=5000)\n",
        "X_train_tfidf = tfidf_vectorizer.fit_transform(X_train)\n",
        "X_test_tfidf = tfidf_vectorizer.transform(X_test)\n"
      ],
      "metadata": {
        "id": "b5tbkSU-Ll3O"
      },
      "execution_count": null,
      "outputs": []
    },
    {
      "cell_type": "markdown",
      "source": [
        "## XGBoost with Bag of Words"
      ],
      "metadata": {
        "id": "AL2yLb2IWjU4"
      }
    },
    {
      "cell_type": "code",
      "source": [
        "from sklearn.model_selection import train_test_split, RandomizedSearchCV\n",
        "from sklearn.metrics import accuracy_score, classification_report\n",
        "import xgboost as xgb"
      ],
      "metadata": {
        "id": "GmYECPrfWiI6"
      },
      "execution_count": null,
      "outputs": []
    },
    {
      "cell_type": "code",
      "source": [
        "# Define the model\n",
        "xgb_model = xgb.XGBClassifier(device='cuda')\n",
        "\n",
        "# Define hyperparameter grid for Random Search\n",
        "param_dist = {\n",
        "    'n_estimators': [50, 100, 150, 200],\n",
        "    'max_depth': [3, 6, 9, 12],\n",
        "    'learning_rate': [0.01, 0.1, 0.2],\n",
        "    'subsample': [0.8, 0.9, 1.0],\n",
        "    'colsample_bytree': [0.8, 0.9, 1.0]\n",
        "}\n",
        "\n",
        "# Setup Random Search\n",
        "random_search = RandomizedSearchCV(xgb_model, param_distributions=param_dist,\n",
        "                                    n_iter=10, cv=3, verbose=2,\n",
        "                                    scoring='accuracy', random_state=42)\n",
        "\n",
        "# Train the model with Random Search\n",
        "random_search.fit(X_train_tfidf, y_train)\n",
        "\n",
        "# Best parameters and score\n",
        "print(\"Best Parameters:\", random_search.best_params_)\n",
        "print(\"Best Score:\", random_search.best_score_)"
      ],
      "metadata": {
        "colab": {
          "base_uri": "https://localhost:8080/"
        },
        "id": "WldyjLfUWycB",
        "outputId": "e36e756a-e246-4dc2-c586-77f193471ec2"
      },
      "execution_count": null,
      "outputs": [
        {
          "output_type": "stream",
          "name": "stdout",
          "text": [
            "Fitting 3 folds for each of 10 candidates, totalling 30 fits\n",
            "[CV] END colsample_bytree=1.0, learning_rate=0.2, max_depth=12, n_estimators=100, subsample=0.9; total time=   1.0s\n",
            "[CV] END colsample_bytree=1.0, learning_rate=0.2, max_depth=12, n_estimators=100, subsample=0.9; total time=   1.5s\n",
            "[CV] END colsample_bytree=1.0, learning_rate=0.2, max_depth=12, n_estimators=100, subsample=0.9; total time=   1.1s\n",
            "[CV] END colsample_bytree=0.8, learning_rate=0.1, max_depth=9, n_estimators=100, subsample=0.8; total time=   1.0s\n",
            "[CV] END colsample_bytree=0.8, learning_rate=0.1, max_depth=9, n_estimators=100, subsample=0.8; total time=   0.8s\n",
            "[CV] END colsample_bytree=0.8, learning_rate=0.1, max_depth=9, n_estimators=100, subsample=0.8; total time=   1.4s\n",
            "[CV] END colsample_bytree=0.9, learning_rate=0.01, max_depth=12, n_estimators=50, subsample=0.8; total time=   1.5s\n",
            "[CV] END colsample_bytree=0.9, learning_rate=0.01, max_depth=12, n_estimators=50, subsample=0.8; total time=   1.7s\n",
            "[CV] END colsample_bytree=0.9, learning_rate=0.01, max_depth=12, n_estimators=50, subsample=0.8; total time=   1.1s\n",
            "[CV] END colsample_bytree=0.8, learning_rate=0.01, max_depth=9, n_estimators=150, subsample=0.8; total time=   2.1s\n",
            "[CV] END colsample_bytree=0.8, learning_rate=0.01, max_depth=9, n_estimators=150, subsample=0.8; total time=   2.0s\n",
            "[CV] END colsample_bytree=0.8, learning_rate=0.01, max_depth=9, n_estimators=150, subsample=0.8; total time=   2.1s\n",
            "[CV] END colsample_bytree=1.0, learning_rate=0.2, max_depth=3, n_estimators=150, subsample=1.0; total time=   0.6s\n",
            "[CV] END colsample_bytree=1.0, learning_rate=0.2, max_depth=3, n_estimators=150, subsample=1.0; total time=   0.8s\n",
            "[CV] END colsample_bytree=1.0, learning_rate=0.2, max_depth=3, n_estimators=150, subsample=1.0; total time=   0.6s\n",
            "[CV] END colsample_bytree=0.9, learning_rate=0.2, max_depth=9, n_estimators=200, subsample=1.0; total time=   0.6s\n",
            "[CV] END colsample_bytree=0.9, learning_rate=0.2, max_depth=9, n_estimators=200, subsample=1.0; total time=   0.6s\n",
            "[CV] END colsample_bytree=0.9, learning_rate=0.2, max_depth=9, n_estimators=200, subsample=1.0; total time=   0.5s\n",
            "[CV] END colsample_bytree=1.0, learning_rate=0.2, max_depth=9, n_estimators=150, subsample=0.8; total time=   0.4s\n",
            "[CV] END colsample_bytree=1.0, learning_rate=0.2, max_depth=9, n_estimators=150, subsample=0.8; total time=   0.5s\n",
            "[CV] END colsample_bytree=1.0, learning_rate=0.2, max_depth=9, n_estimators=150, subsample=0.8; total time=   0.4s\n",
            "[CV] END colsample_bytree=0.9, learning_rate=0.01, max_depth=3, n_estimators=200, subsample=0.9; total time=   0.7s\n",
            "[CV] END colsample_bytree=0.9, learning_rate=0.01, max_depth=3, n_estimators=200, subsample=0.9; total time=   0.7s\n",
            "[CV] END colsample_bytree=0.9, learning_rate=0.01, max_depth=3, n_estimators=200, subsample=0.9; total time=   0.7s\n",
            "[CV] END colsample_bytree=0.9, learning_rate=0.1, max_depth=3, n_estimators=100, subsample=0.8; total time=   0.4s\n",
            "[CV] END colsample_bytree=0.9, learning_rate=0.1, max_depth=3, n_estimators=100, subsample=0.8; total time=   0.4s\n",
            "[CV] END colsample_bytree=0.9, learning_rate=0.1, max_depth=3, n_estimators=100, subsample=0.8; total time=   0.3s\n",
            "[CV] END colsample_bytree=0.9, learning_rate=0.01, max_depth=3, n_estimators=100, subsample=0.9; total time=   0.3s\n",
            "[CV] END colsample_bytree=0.9, learning_rate=0.01, max_depth=3, n_estimators=100, subsample=0.9; total time=   0.4s\n",
            "[CV] END colsample_bytree=0.9, learning_rate=0.01, max_depth=3, n_estimators=100, subsample=0.9; total time=   0.4s\n",
            "Best Parameters: {'subsample': 0.9, 'n_estimators': 200, 'max_depth': 3, 'learning_rate': 0.01, 'colsample_bytree': 0.9}\n",
            "Best Score: 0.7773124904483507\n"
          ]
        }
      ]
    },
    {
      "cell_type": "markdown",
      "source": [
        "## Evaluation and Plotting Graph\n"
      ],
      "metadata": {
        "id": "x2XsLp3jXhza"
      }
    },
    {
      "cell_type": "code",
      "source": [
        "from sklearn.metrics import f1_score\n",
        "\n",
        "# Predict and evaluate the model\n",
        "y_pred_tfidf = random_search.predict(X_test_tfidf)\n",
        "print(\"Model Accuracy:\", accuracy_score(y_test, y_pred_tfidf))\n",
        "print(\"F1 Score:\", f1_score(y_test, y_pred_tfidf))\n",
        "print(classification_report(y_test, y_pred_tfidf))\n"
      ],
      "metadata": {
        "colab": {
          "base_uri": "https://localhost:8080/"
        },
        "id": "GstZrfI1W8RS",
        "outputId": "1ec8a7df-e40b-4f25-8d39-47d542876d78"
      },
      "execution_count": null,
      "outputs": [
        {
          "output_type": "stream",
          "name": "stdout",
          "text": [
            "Model Accuracy: 0.777\n",
            "F1 Score: 0.8717285015818235\n",
            "              precision    recall  f1-score   support\n",
            "\n",
            "           0       0.88      0.08      0.15       958\n",
            "           1       0.77      1.00      0.87      3042\n",
            "\n",
            "    accuracy                           0.78      4000\n",
            "   macro avg       0.82      0.54      0.51      4000\n",
            "weighted avg       0.80      0.78      0.70      4000\n",
            "\n"
          ]
        }
      ]
    },
    {
      "cell_type": "code",
      "source": [
        "import matplotlib.pyplot as plt\n",
        "\n",
        "# Get predicted probabilities for the positive class\n",
        "y_pred_prob = random_search.predict_proba(X_test_tfidf)[:, 1]\n",
        "\n",
        "# Plot histogram of predicted probabilities\n",
        "plt.figure(figsize=(10, 6))\n",
        "plt.hist(y_pred_prob, bins=20, edgecolor='k', alpha=0.7)\n",
        "plt.title('Histogram of Predicted Probabilities for the Positive Class')\n",
        "plt.xlabel('Predicted Probability')\n",
        "plt.ylabel('Frequency')\n",
        "plt.grid(True)\n",
        "plt.show()"
      ],
      "metadata": {
        "id": "EgZHa5JoXbKa",
        "outputId": "c8d672f6-10b5-46bf-dacb-3047a5f7c67b",
        "colab": {
          "base_uri": "https://localhost:8080/",
          "height": 564
        }
      },
      "execution_count": null,
      "outputs": [
        {
          "output_type": "display_data",
          "data": {
            "text/plain": [
              "<Figure size 1000x600 with 1 Axes>"
            ],
            "image/png": "[encoded data removed]"
          },
          "metadata": {}
        }
      ]
    },
    {
      "cell_type": "code",
      "source": [
        "# Print optimized hyperparameters\n",
        "print(\"Optimized Hyperparameters:\")\n",
        "for param, value in random_search.best_params_.items():\n",
        "    print(f\"{param}: {value}\")"
      ],
      "metadata": {
        "id": "asDJcpuyXdbv",
        "outputId": "94d8d8d6-7313-4706-874d-afdb6e6f7add",
        "colab": {
          "base_uri": "https://localhost:8080/"
        }
      },
      "execution_count": null,
      "outputs": [
        {
          "output_type": "stream",
          "name": "stdout",
          "text": [
            "Optimized Hyperparameters:\n",
            "subsample: 0.9\n",
            "n_estimators: 200\n",
            "max_depth: 3\n",
            "learning_rate: 0.01\n",
            "colsample_bytree: 0.9\n"
          ]
        }
      ]
    },
    {
      "cell_type": "code",
      "source": [],
      "metadata": {
        "id": "eKqjC-flXfn9"
      },
      "execution_count": null,
      "outputs": []
    }
  ]
}