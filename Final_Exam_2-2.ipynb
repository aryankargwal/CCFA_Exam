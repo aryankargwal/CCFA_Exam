{
  "nbformat": 4,
  "nbformat_minor": 0,
  "metadata": {
    "colab": {
      "provenance": [],
      "gpuType": "T4"
    },
    "kernelspec": {
      "name": "python3",
      "display_name": "Python 3"
    },
    "language_info": {
      "name": "python"
    },
    "accelerator": "GPU"
  },
  "cells": [
    {
      "cell_type": "markdown",
      "source": [
        "# Amazon Review Analysis\n",
        "In the following notebook, which is a part of the 4 part assignment, we will be implementing a model which does a sentiment analysis on a dataset using XGBoost + Word2Vec.\n",
        "\n",
        "For the following we will be doing the following things:\n",
        "1. Data Preprocessing\n",
        "2. Making Data Machine Undersdtandable\n",
        "3. XGBoost with Word2Vec\n",
        "4. Evaluation and Plotting Graph"
      ],
      "metadata": {
        "id": "254TgXr6KGry"
      }
    },
    {
      "cell_type": "markdown",
      "source": [
        "## Data Pre-processing\n"
      ],
      "metadata": {
        "id": "Qf-VB9uQNoSr"
      }
    },
    {
      "cell_type": "code",
      "execution_count": null,
      "metadata": {
        "colab": {
          "base_uri": "https://localhost:8080/"
        },
        "id": "WiaqnEehKCYQ",
        "outputId": "1cf04703-5899-4b11-8294-e4a67adf4e0a"
      },
      "outputs": [
        {
          "output_type": "stream",
          "name": "stderr",
          "text": [
            "[nltk_data] Downloading package stopwords to /root/nltk_data...\n",
            "[nltk_data]   Unzipping corpora/stopwords.zip.\n",
            "[nltk_data] Downloading package wordnet to /root/nltk_data...\n",
            "[nltk_data] Downloading package punkt to /root/nltk_data...\n",
            "[nltk_data]   Unzipping tokenizers/punkt.zip.\n"
          ]
        }
      ],
      "source": [
        "# Data Preprocessing\n",
        "import pandas as pd\n",
        "import numpy as np\n",
        "import string\n",
        "import nltk\n",
        "from nltk.corpus import stopwords\n",
        "from nltk.stem import WordNetLemmatizer\n",
        "from sklearn.model_selection import train_test_split\n",
        "\n",
        "# Download required NLTK data files\n",
        "nltk.download('stopwords')\n",
        "nltk.download('wordnet')\n",
        "nltk.download('punkt')\n",
        "\n",
        "# Load the data\n",
        "train_df = pd.read_csv('/content/drive/MyDrive/Machine Learning for Finances/train.csv')\n",
        "test_df = pd.read_csv('/content/drive/MyDrive/Machine Learning for Finances/test.csv')\n",
        "\n",
        "# Function to clean text\n",
        "def clean_text(text):\n",
        "    # Remove punctuation\n",
        "    text = text.translate(str.maketrans('', '', string.punctuation))\n",
        "    # Tokenize\n",
        "    tokens = nltk.word_tokenize(text.lower())\n",
        "    # Remove stop words and lemmatize\n",
        "    lemmatizer = WordNetLemmatizer()\n",
        "    tokens = [lemmatizer.lemmatize(word) for word in tokens if word not in stopwords.words('english')]\n",
        "    return ' '.join(tokens)\n",
        "\n",
        "# Apply the clean_text function to the reviewText column\n",
        "train_df['cleanedText'] = train_df['reviewText'].apply(clean_text)\n",
        "test_df['cleanedText'] = test_df['reviewText'].apply(clean_text)\n",
        "\n",
        "# Separate features and target\n",
        "X_train = train_df['cleanedText']\n",
        "y_train = train_df['Positive']\n",
        "X_test = test_df['cleanedText']\n",
        "y_test = test_df['Positive']"
      ]
    },
    {
      "cell_type": "markdown",
      "source": [
        "## Making Data Machine Understandable"
      ],
      "metadata": {
        "id": "P7_b5VA8N6eO"
      }
    },
    {
      "cell_type": "code",
      "source": [
        "# Unzipping Pretrained Model\n",
        "#import zipfile\n",
        "\n",
        "# Path to your zipped Word2Vec model\n",
        "#zip_path = '/content/drive/MyDrive/Machine Learning for Finances/GoogleNews-vectors-negative300.bin.zip'\n",
        "#extract_path = '/content/drive/MyDrive/Machine Learning for Finances/'\n",
        "\n",
        "# Unzip the file\n",
        "#with zipfile.ZipFile(zip_path, 'r') as zip_ref:\n",
        "    #zip_ref.extractall(extract_path)"
      ],
      "metadata": {
        "id": "cr-Mk31pn9q1"
      },
      "execution_count": null,
      "outputs": []
    },
    {
      "cell_type": "code",
      "source": [
        "from gensim.models import KeyedVectors\n",
        "import numpy as np\n",
        "\n",
        "word2vec_path = '//content/drive/MyDrive/Machine Learning for Finances/GoogleNews-vectors-negative300.bin'\n",
        "word2vec_model = KeyedVectors.load_word2vec_format(word2vec_path, binary=True)\n",
        "\n",
        "def get_word2vec_features(text):\n",
        "    tokens = text.split()\n",
        "    vectors = [word2vec_model[word] for word in tokens if word in word2vec_model]\n",
        "    if vectors:\n",
        "        return np.mean(vectors, axis=0)\n",
        "    else:\n",
        "        return np.zeros(word2vec_model.vector_size)\n",
        "\n",
        "# Apply to the datasets\n",
        "X_train_vectors = np.array([get_word2vec_features(text) for text in X_train])\n",
        "X_test_vectors = np.array([get_word2vec_features(text) for text in X_test])"
      ],
      "metadata": {
        "id": "b5tbkSU-Ll3O"
      },
      "execution_count": null,
      "outputs": []
    },
    {
      "cell_type": "markdown",
      "source": [
        "## XGBoost with Word2Vec"
      ],
      "metadata": {
        "id": "BJWdXm8or_Pt"
      }
    },
    {
      "cell_type": "code",
      "source": [
        "import xgboost as xgb\n",
        "from sklearn.model_selection import RandomizedSearchCV\n",
        "from sklearn.metrics import classification_report\n",
        "\n",
        "# Define parameter grid\n",
        "param_grid = {\n",
        "    'n_estimators': [100, 200, 300],\n",
        "    'max_depth': [3, 5, 7],\n",
        "    'learning_rate': [0.01, 0.1, 0.2],\n",
        "    'subsample': [0.8, 0.9, 1.0]\n",
        "}\n",
        "\n",
        "# Initialize XGBoost model\n",
        "xgb_model = xgb.XGBClassifier(device='gpu')\n",
        "\n",
        "# Initialize RandomizedSearchCV\n",
        "random_search = RandomizedSearchCV(estimator=xgb_model, param_distributions=param_grid,\n",
        "                                    n_iter=10, cv=3, verbose=1, n_jobs=-1, random_state=42)\n",
        "\n",
        "# Fit RandomizedSearchCV\n",
        "random_search.fit(X_train_vectors, y_train)\n",
        "\n",
        "# Best parameters and score\n",
        "print(f'Best Parameters: {random_search.best_params_}')\n",
        "print(f'Best Score: {random_search.best_score_}')\n",
        "\n",
        "# Use the best model\n",
        "best_model = random_search.best_estimator_\n",
        "\n",
        "# Predict and evaluate with the best model\n",
        "y_pred = best_model.predict(X_test_vectors)\n",
        "print(classification_report(y_test, y_pred))"
      ],
      "metadata": {
        "colab": {
          "base_uri": "https://localhost:8080/"
        },
        "id": "toVbMWJdoUHI",
        "outputId": "c6de398f-e903-4a3f-fcc2-4a0c05d8b3ab"
      },
      "execution_count": null,
      "outputs": [
        {
          "output_type": "stream",
          "name": "stdout",
          "text": [
            "Fitting 3 folds for each of 10 candidates, totalling 30 fits\n",
            "Best Parameters: {'subsample': 0.9, 'n_estimators': 300, 'max_depth': 5, 'learning_rate': 0.2}\n",
            "Best Score: 0.8661251044163264\n",
            "              precision    recall  f1-score   support\n",
            "\n",
            "           0       0.78      0.65      0.71       958\n",
            "           1       0.89      0.94      0.92      3042\n",
            "\n",
            "    accuracy                           0.87      4000\n",
            "   macro avg       0.84      0.80      0.81      4000\n",
            "weighted avg       0.87      0.87      0.87      4000\n",
            "\n"
          ]
        },
        {
          "output_type": "stream",
          "name": "stderr",
          "text": [
            "/usr/local/lib/python3.10/dist-packages/xgboost/core.py:160: UserWarning: [21:04:02] WARNING: /workspace/src/common/error_msg.cc:58: Falling back to prediction using DMatrix due to mismatched devices. This might lead to higher memory usage and slower performance. XGBoost is running on: cuda:0, while the input data is on: cpu.\n",
            "Potential solutions:\n",
            "- Use a data structure that matches the device ordinal in the booster.\n",
            "- Set the device for booster before call to inplace_predict.\n",
            "\n",
            "This warning will only be shown once.\n",
            "\n",
            "  warnings.warn(smsg, UserWarning)\n"
          ]
        }
      ]
    },
    {
      "cell_type": "markdown",
      "source": [
        "## Evaluation and Plotting Graph\n"
      ],
      "metadata": {
        "id": "x2XsLp3jXhza"
      }
    },
    {
      "cell_type": "code",
      "source": [
        "import matplotlib.pyplot as plt\n",
        "\n",
        "# Get predicted probabilities\n",
        "y_pred_prob = best_model.predict_proba(X_test_vectors)[:, 1]\n",
        "\n",
        "# Plot histogram of prediction probabilities\n",
        "plt.figure(figsize=(10, 6))\n",
        "plt.hist(y_pred_prob, bins=50, edgecolor='k', alpha=0.7)\n",
        "plt.title('Histogram of Prediction Probabilities for Positive Class')\n",
        "plt.xlabel('Predicted Probability')\n",
        "plt.ylabel('Frequency')\n",
        "plt.grid(True)\n",
        "plt.show()"
      ],
      "metadata": {
        "id": "EgZHa5JoXbKa",
        "outputId": "c7e05ab1-fff5-4bd7-95d9-b9e4bbf71897",
        "colab": {
          "base_uri": "https://localhost:8080/",
          "height": 564
        }
      },
      "execution_count": null,
      "outputs": [
        {
          "output_type": "display_data",
          "data": {
            "text/plain": [
              "<Figure size 1000x600 with 1 Axes>"
            ],
            "image/png": "[encoded data removed]"
          },
          "metadata": {}
        }
      ]
    },
    {
      "cell_type": "code",
      "source": [
        "# Print optimized hyperparameters\n",
        "print(\"Optimized Hyperparameters:\")\n",
        "for param, value in random_search.best_params_.items():\n",
        "    print(f\"{param}: {value}\")"
      ],
      "metadata": {
        "id": "asDJcpuyXdbv",
        "outputId": "8d44fcf5-db13-40a2-f9d0-b113e41a904e",
        "colab": {
          "base_uri": "https://localhost:8080/"
        }
      },
      "execution_count": null,
      "outputs": [
        {
          "output_type": "stream",
          "name": "stdout",
          "text": [
            "Optimized Hyperparameters:\n",
            "subsample: 0.9\n",
            "n_estimators: 300\n",
            "max_depth: 5\n",
            "learning_rate: 0.2\n"
          ]
        }
      ]
    },
    {
      "cell_type": "code",
      "source": [],
      "metadata": {
        "id": "eKqjC-flXfn9"
      },
      "execution_count": null,
      "outputs": []
    }
  ]
}